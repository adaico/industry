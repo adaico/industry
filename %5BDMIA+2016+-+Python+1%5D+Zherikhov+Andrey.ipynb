{
 "cells": [
  {
   "cell_type": "markdown",
   "metadata": {},
   "source": [
    "# Python"
   ]
  },
  {
   "cell_type": "markdown",
   "metadata": {},
   "source": [
    "### FizzBuzz"
   ]
  },
  {
   "cell_type": "code",
   "execution_count": 1,
   "metadata": {
    "collapsed": false
   },
   "outputs": [
    {
     "name": "stdout",
     "output_type": "stream",
     "text": [
      "1\n",
      "2\n",
      "Fizz\n",
      "4\n",
      "Buzz\n",
      "Fizz\n",
      "7\n",
      "8\n",
      "Fizz\n",
      "Buzz\n",
      "11\n",
      "Fizz\n",
      "13\n",
      "14\n",
      "FizzBuzz\n",
      "16\n",
      "17\n",
      "Fizz\n",
      "19\n",
      "Buzz\n",
      "Fizz\n",
      "22\n",
      "23\n",
      "Fizz\n",
      "Buzz\n",
      "26\n",
      "Fizz\n",
      "28\n",
      "29\n",
      "FizzBuzz\n",
      "31\n",
      "32\n",
      "Fizz\n",
      "34\n",
      "Buzz\n",
      "Fizz\n",
      "37\n",
      "38\n",
      "Fizz\n",
      "Buzz\n",
      "41\n",
      "Fizz\n",
      "43\n",
      "44\n",
      "FizzBuzz\n",
      "46\n",
      "47\n",
      "Fizz\n",
      "49\n",
      "Buzz\n",
      "Fizz\n",
      "52\n",
      "53\n",
      "Fizz\n",
      "Buzz\n",
      "56\n",
      "Fizz\n",
      "58\n",
      "59\n",
      "FizzBuzz\n",
      "61\n",
      "62\n",
      "Fizz\n",
      "64\n",
      "Buzz\n",
      "Fizz\n",
      "67\n",
      "68\n",
      "Fizz\n",
      "Buzz\n",
      "71\n",
      "Fizz\n",
      "73\n",
      "74\n",
      "FizzBuzz\n",
      "76\n",
      "77\n",
      "Fizz\n",
      "79\n",
      "Buzz\n",
      "Fizz\n",
      "82\n",
      "83\n",
      "Fizz\n",
      "Buzz\n",
      "86\n",
      "Fizz\n",
      "88\n",
      "89\n",
      "FizzBuzz\n",
      "91\n",
      "92\n",
      "Fizz\n",
      "94\n",
      "Buzz\n",
      "Fizz\n",
      "97\n",
      "98\n",
      "Fizz\n",
      "Buzz\n"
     ]
    }
   ],
   "source": [
    " for i in range(1,101):\n",
    "    if (i%3 == 0) and (i%5 == 0):\n",
    "        print(\"FizzBuzz\")\n",
    "    elif (i%3 == 0):\n",
    "        print(\"Fizz\")\n",
    "    elif (i%5 == 0):\n",
    "        print(\"Buzz\")\n",
    "    else: \n",
    "        print(i)"
   ]
  },
  {
   "cell_type": "markdown",
   "metadata": {},
   "source": [
    "### Fibonacci "
   ]
  },
  {
   "cell_type": "code",
   "execution_count": 2,
   "metadata": {
    "collapsed": false
   },
   "outputs": [
    {
     "name": "stdout",
     "output_type": "stream",
     "text": [
      "218922995834555169026\n"
     ]
    }
   ],
   "source": [
    "a = 0\n",
    "b = 1\n",
    "for i in range(100 - 2):\n",
    "    c = a\n",
    "    a = b\n",
    "    b += c \n",
    "print(b)"
   ]
  },
  {
   "cell_type": "markdown",
   "metadata": {},
   "source": [
    "### QSort"
   ]
  },
  {
   "cell_type": "code",
   "execution_count": 3,
   "metadata": {
    "collapsed": false
   },
   "outputs": [
    {
     "name": "stdout",
     "output_type": "stream",
     "text": [
      "[0, 0, 0, 0, 1, 2, 2, 4, 5, 5, 7, 8, 8, 8, 8, 9, 9, 9, 9, 9, 12, 21, 27, 28, 29, 37, 38, 49, 61, 64, 70]\n"
     ]
    }
   ],
   "source": [
    "array1 = [1, 2, 7, 4, 5, 0, 61, 2, 0, 5, 21, 8, 37, 49, 0, 8, 9, 8, 27, 0, 9, 29, 12, 9, 28, 9, 38, 70, 8, 9, 64]\n",
    "array2 = [10, 4, 6, 6, 20, 10, 3, 7, 10]\n",
    "\n",
    "\n",
    "def qsort(array): \n",
    "    if len(array) in [0,  1]: \n",
    "        return array \n",
    "    else: \n",
    "        return qsort([x for x in array[1 : ] if x < array[0]]) + [array[0]] + qsort([x for x in array[1 : ] if x >= array[0]]) \n",
    "    \n",
    "print(qsort(array1))\n"
   ]
  },
  {
   "cell_type": "markdown",
   "metadata": {},
   "source": [
    "# NumPy"
   ]
  },
  {
   "cell_type": "markdown",
   "metadata": {},
   "source": [
    "### LinSpace"
   ]
  },
  {
   "cell_type": "code",
   "execution_count": 13,
   "metadata": {
    "collapsed": false
   },
   "outputs": [
    {
     "name": "stdout",
     "output_type": "stream",
     "text": [
      "NumPy - 0.000168\n",
      "Cycle - 0.000832\n",
      "List_C - 0.000544\n"
     ]
    }
   ],
   "source": [
    "import numpy as np\n",
    "import time as t\n",
    "\n",
    "\"\"\"1\"\"\"\n",
    "start = t.time()\n",
    "np.linspace(-5, 6, 1100)\n",
    "print(\"NumPy - %f\" % (t.time() - start))\n",
    "\n",
    "\n",
    "\"\"\"2\"\"\"\n",
    "def cycle(s, e, n):\n",
    "    array = []\n",
    "    d = (e - s) / (n - 1)\n",
    "    for i in range(n):\n",
    "        array.append(s + i * d)\n",
    "    return array\n",
    "\n",
    "start = t.time()\n",
    "cycle(-5, 6, 1100)\n",
    "print(\"Cycle - %f\" % (t.time() - start))\n",
    "\n",
    "\n",
    "\"\"\"3\"\"\"\n",
    "def list_comprehension(s, e, n):\n",
    "    array = [s + (e - s) * i / (n - 1) for i in range(n)]\n",
    "    return array\n",
    "\n",
    "start = t.time()\n",
    "list_comprehension(-5, 6, 1100)\n",
    "print(\"List_C - %f\" % (t.time() - start))"
   ]
  },
  {
   "cell_type": "markdown",
   "metadata": {},
   "source": [
    "# Matplotlib"
   ]
  },
  {
   "cell_type": "code",
   "execution_count": 19,
   "metadata": {
    "collapsed": false
   },
   "outputs": [
    {
     "data": {
      "image/png": "[encoded data removed]",
      "text/plain": [
       "<matplotlib.figure.Figure at 0x10f597a20>"
      ]
     },
     "metadata": {},
     "output_type": "display_data"
    }
   ],
   "source": [
    "import matplotlib.pyplot as plt\n",
    "import numpy as np\n",
    "\n",
    "fig, sp = plt.subplots(nrows = 1, ncols = 2)\n",
    "\n",
    "x = np.linspace(-10, 10, 1000)\n",
    "\n",
    "sp[0].plot(x, x ** 3, label = 'cubic parabola')\n",
    "sp[0].plot(x, np.sin(x) * 500, label = 'sin')\n",
    "sp[0].plot(np.linspace(0, 10, 500), np.log(np.linspace(0.01, 10, 500)) * 500, label = 'log')\n",
    "sp[0].axis([-10, 10, -1000, 1000])\n",
    "\n",
    "sp[1].plot(x, x ** 2, label = 'parabola')\n",
    "sp[1].plot(x, np.arctan(x) * 50, label = 'tg')\n",
    "sp[1].axis([-10, 10, -100, 100])\n",
    "\n",
    "for spi in sp:\n",
    "    spi.set_xlabel('x axis')\n",
    "    spi.set_ylabel('y axis')\n",
    "    spi.grid(True) \n",
    "    spi.legend(loc = 2)\n",
    "    \n",
    "plt.show() \n",
    "fig.savefig('plots.png', format = 'png')"
   ]
  },
  {
   "cell_type": "markdown",
   "metadata": {},
   "source": [
    "# SciPy"
   ]
  },
  {
   "cell_type": "code",
   "execution_count": 21,
   "metadata": {
    "collapsed": false
   },
   "outputs": [
    {
     "name": "stdout",
     "output_type": "stream",
     "text": [
      "True\n",
      "True\n",
      "True\n",
      "True\n",
      "True\n"
     ]
    }
   ],
   "source": [
    "import numpy as np\n",
    "from numpy import linalg as la\n",
    "\n",
    "a = np.array(np.random.normal(0, 1, (5, 5)))\n",
    "val, vect = la.eig(a)\n",
    "for i in range(5):\n",
    "    print(np.array_equal(np.round(np.dot(a, vect[:,i]), 5), np.round((val[i] * vect[:,i]), 5)))"
   ]
  },
  {
   "cell_type": "code",
   "execution_count": null,
   "metadata": {
    "collapsed": true
   },
   "outputs": [],
   "source": []
  }
 ],
 "metadata": {
  "anaconda-cloud": {},
  "kernelspec": {
   "display_name": "Python [default]",
   "language": "python",
   "name": "python3"
  },
  "language_info": {
   "codemirror_mode": {
    "name": "ipython",
    "version": 3
   },
   "file_extension": ".py",
   "mimetype": "text/x-python",
   "name": "python",
   "nbconvert_exporter": "python",
   "pygments_lexer": "ipython3",
   "version": "3.5.2"
  }
 },
 "nbformat": 4,
 "nbformat_minor": 1
}
